{
 "cells": [
  {
   "cell_type": "code",
   "execution_count": 1,
   "metadata": {},
   "outputs": [],
   "source": [
    "# David Laub dlaub@ucsd.edu\n",
    "# Lin Chou lic130@pitt.edu"
   ]
  },
  {
   "cell_type": "code",
   "execution_count": 2,
   "metadata": {},
   "outputs": [
    {
     "name": "stderr",
     "output_type": "stream",
     "text": [
      "/home/lic130/.local/lib/python3.12/site-packages/sorted_nearest/__init__.py:1: UserWarning: pkg_resources is deprecated as an API. See https://setuptools.pypa.io/en/latest/pkg_resources.html. The pkg_resources package is slated for removal as early as 2025-11-30. Refrain from using this package or pin to Setuptools<81.\n",
      "  import pkg_resources\n"
     ]
    }
   ],
   "source": [
    "from pathlib import Path\n",
    "from genoray.exprs import is_snp,is_indel\n",
    "from genoray import VCF\n",
    "import polars as pl\n",
    "import awkward as ak\n",
    "import pyranges as pr\n",
    "from seqpro._ragged import Ragged\n",
    "from einops import repeat\n",
    "import numpy as np"
   ]
  },
  {
   "cell_type": "code",
   "execution_count": 3,
   "metadata": {},
   "outputs": [],
   "source": [
    "ddir = Path(\"/home/lic130/scratch/hmp01/hmp01_patient_count\")"
   ]
  },
  {
   "cell_type": "code",
   "execution_count": 4,
   "metadata": {},
   "outputs": [],
   "source": [
    "# a function for deduplication by getting the union\n",
    "def get_dedup_genos(vcf, sample_sheet):\n",
    "    genos = vcf.read(\"16\") == 1\n",
    "    n_cases = ss['case_id'].n_unique()\n",
    "    cases = []\n",
    "    dedup_genos = np.empty((n_cases, 2, genos.shape[-1]), np.uint8)\n",
    "    for i, ((case_id,), df) in enumerate(ss.group_by('case_id', maintain_order=True)):\n",
    "        idx = df['index']\n",
    "        dedup_genos[i] = genos[idx].any(0)\n",
    "        cases.append(case_id)\n",
    "    return cases, dedup_genos"
   ]
  },
  {
   "cell_type": "markdown",
   "metadata": {},
   "source": [
    "# New WGS Data $n_{\\text{runs}}$=10,203, $n_{\\text{cases}}$=8,913"
   ]
  },
  {
   "cell_type": "code",
   "execution_count": 5,
   "metadata": {},
   "outputs": [],
   "source": [
    "exons = pr.read_bed(str(ddir / \"VPS9D1-AS1_exons.bed\")).drop(\"Strand\").merge()\n",
    "n_orfs = pr.read_bed(str(ddir / \"VPS9D1-AS1_nORFs.bed\")).merge()\n",
    "tr = pr.read_bed(str(ddir / \"VPS9D1-AS1_TR.bed\")).merge()"
   ]
  },
  {
   "cell_type": "code",
   "execution_count": 6,
   "metadata": {},
   "outputs": [
    {
     "name": "stderr",
     "output_type": "stream",
     "text": [
      "\u001b[32m2025-07-24 15:05:12.681\u001b[0m | \u001b[1mINFO    \u001b[0m | \u001b[36mgenoray._vcf\u001b[0m:\u001b[36m_load_index\u001b[0m:\u001b[36m1059\u001b[0m - \u001b[1mLoading genoray index.\u001b[0m\n"
     ]
    },
    {
     "data": {
      "text/html": [
       "<div><style>\n",
       ".dataframe > thead > tr,\n",
       ".dataframe > tbody > tr {\n",
       "  text-align: right;\n",
       "  white-space: pre-wrap;\n",
       "}\n",
       "</style>\n",
       "<small>shape: (5, 9)</small><table border=\"1\" class=\"dataframe\"><thead><tr><th>file_id</th><th>file_name</th><th>data_category</th><th>data_type</th><th>project_id</th><th>case_id</th><th>sample_id</th><th>sample_type</th><th>index</th></tr><tr><td>str</td><td>str</td><td>str</td><td>str</td><td>str</td><td>str</td><td>str</td><td>str</td><td>u32</td></tr></thead><tbody><tr><td>&quot;0000ff8f-77b1-48ce-bbee-b12b5d…</td><td>&quot;CPTAC-3.46727fd6-e725-4a03-a44…</td><td>&quot;Simple Nucleotide Variation&quot;</td><td>&quot;Raw Simple Somatic Mutation&quot;</td><td>&quot;CPTAC-3&quot;</td><td>&quot;C207624&quot;</td><td>&quot;SM-JU34N, 1105207&quot;</td><td>&quot;Primary Tumor, Blood Derived N…</td><td>0</td></tr><tr><td>&quot;0005b113-ab59-4467-8e54-ff2ef3…</td><td>&quot;TCGA-MESO.89d209b8-f740-47d2-a…</td><td>&quot;Simple Nucleotide Variation&quot;</td><td>&quot;Raw Simple Somatic Mutation&quot;</td><td>&quot;TCGA-MESO&quot;</td><td>&quot;TCGA-MQ-A4LV&quot;</td><td>&quot;TCGA-MQ-A4LV-10B, TCGA-MQ-A4LV…</td><td>&quot;Blood Derived Normal, Primary …</td><td>1</td></tr><tr><td>&quot;0005fbc7-794a-4ac8-911b-d4c209…</td><td>&quot;TCGA-TGCT.e048949b-e586-4cf5-9…</td><td>&quot;Simple Nucleotide Variation&quot;</td><td>&quot;Raw Simple Somatic Mutation&quot;</td><td>&quot;TCGA-TGCT&quot;</td><td>&quot;TCGA-2G-AAHC&quot;</td><td>&quot;TCGA-2G-AAHC-10A, TCGA-2G-AAHC…</td><td>&quot;Blood Derived Normal, Primary …</td><td>2</td></tr><tr><td>&quot;001611e0-2525-4509-9684-bc7c4c…</td><td>&quot;TCGA-HNSC.34719f72-4510-4128-a…</td><td>&quot;Simple Nucleotide Variation&quot;</td><td>&quot;Raw Simple Somatic Mutation&quot;</td><td>&quot;TCGA-HNSC&quot;</td><td>&quot;TCGA-HD-A4C1&quot;</td><td>&quot;TCGA-HD-A4C1-01A, TCGA-HD-A4C1…</td><td>&quot;Primary Tumor, Blood Derived N…</td><td>3</td></tr><tr><td>&quot;0017b1f6-4900-4fe0-8419-79bd1f…</td><td>&quot;REBC-THYR.f3f12e32-95c5-4989-9…</td><td>&quot;Simple Nucleotide Variation&quot;</td><td>&quot;Raw Simple Somatic Mutation&quot;</td><td>&quot;REBC-THYR&quot;</td><td>&quot;REBC-ACEV&quot;</td><td>&quot;REBC-ACEV-NT1-A, REBC-ACEV-TTM…</td><td>&quot;Solid Tissue Normal, Metastati…</td><td>4</td></tr></tbody></table></div>"
      ],
      "text/plain": [
       "shape: (5, 9)\n",
       "┌────────────┬────────────┬────────────┬───────────┬───┬───────────┬───────────┬───────────┬───────┐\n",
       "│ file_id    ┆ file_name  ┆ data_categ ┆ data_type ┆ … ┆ case_id   ┆ sample_id ┆ sample_ty ┆ index │\n",
       "│ ---        ┆ ---        ┆ ory        ┆ ---       ┆   ┆ ---       ┆ ---       ┆ pe        ┆ ---   │\n",
       "│ str        ┆ str        ┆ ---        ┆ str       ┆   ┆ str       ┆ str       ┆ ---       ┆ u32   │\n",
       "│            ┆            ┆ str        ┆           ┆   ┆           ┆           ┆ str       ┆       │\n",
       "╞════════════╪════════════╪════════════╪═══════════╪═══╪═══════════╪═══════════╪═══════════╪═══════╡\n",
       "│ 0000ff8f-7 ┆ CPTAC-3.46 ┆ Simple     ┆ Raw       ┆ … ┆ C207624   ┆ SM-JU34N, ┆ Primary   ┆ 0     │\n",
       "│ 7b1-48ce-b ┆ 727fd6-e72 ┆ Nucleotide ┆ Simple    ┆   ┆           ┆ 1105207   ┆ Tumor,    ┆       │\n",
       "│ bee-b12b5d ┆ 5-4a03-a44 ┆ Variation  ┆ Somatic   ┆   ┆           ┆           ┆ Blood     ┆       │\n",
       "│ …          ┆ …          ┆            ┆ Mutation  ┆   ┆           ┆           ┆ Derived   ┆       │\n",
       "│            ┆            ┆            ┆           ┆   ┆           ┆           ┆ N…        ┆       │\n",
       "│ 0005b113-a ┆ TCGA-MESO. ┆ Simple     ┆ Raw       ┆ … ┆ TCGA-MQ-A ┆ TCGA-MQ-A ┆ Blood     ┆ 1     │\n",
       "│ b59-4467-8 ┆ 89d209b8-f ┆ Nucleotide ┆ Simple    ┆   ┆ 4LV       ┆ 4LV-10B,  ┆ Derived   ┆       │\n",
       "│ e54-ff2ef3 ┆ 740-47d2-a ┆ Variation  ┆ Somatic   ┆   ┆           ┆ TCGA-MQ-A ┆ Normal,   ┆       │\n",
       "│ …          ┆ …          ┆            ┆ Mutation  ┆   ┆           ┆ 4LV…      ┆ Primary … ┆       │\n",
       "│ 0005fbc7-7 ┆ TCGA-TGCT. ┆ Simple     ┆ Raw       ┆ … ┆ TCGA-2G-A ┆ TCGA-2G-A ┆ Blood     ┆ 2     │\n",
       "│ 94a-4ac8-9 ┆ e048949b-e ┆ Nucleotide ┆ Simple    ┆   ┆ AHC       ┆ AHC-10A,  ┆ Derived   ┆       │\n",
       "│ 11b-d4c209 ┆ 586-4cf5-9 ┆ Variation  ┆ Somatic   ┆   ┆           ┆ TCGA-2G-A ┆ Normal,   ┆       │\n",
       "│ …          ┆ …          ┆            ┆ Mutation  ┆   ┆           ┆ AHC…      ┆ Primary … ┆       │\n",
       "│ 001611e0-2 ┆ TCGA-HNSC. ┆ Simple     ┆ Raw       ┆ … ┆ TCGA-HD-A ┆ TCGA-HD-A ┆ Primary   ┆ 3     │\n",
       "│ 525-4509-9 ┆ 34719f72-4 ┆ Nucleotide ┆ Simple    ┆   ┆ 4C1       ┆ 4C1-01A,  ┆ Tumor,    ┆       │\n",
       "│ 684-bc7c4c ┆ 510-4128-a ┆ Variation  ┆ Somatic   ┆   ┆           ┆ TCGA-HD-A ┆ Blood     ┆       │\n",
       "│ …          ┆ …          ┆            ┆ Mutation  ┆   ┆           ┆ 4C1…      ┆ Derived   ┆       │\n",
       "│            ┆            ┆            ┆           ┆   ┆           ┆           ┆ N…        ┆       │\n",
       "│ 0017b1f6-4 ┆ REBC-THYR. ┆ Simple     ┆ Raw       ┆ … ┆ REBC-ACEV ┆ REBC-ACEV ┆ Solid     ┆ 4     │\n",
       "│ 900-4fe0-8 ┆ f3f12e32-9 ┆ Nucleotide ┆ Simple    ┆   ┆           ┆ -NT1-A,   ┆ Tissue    ┆       │\n",
       "│ 419-79bd1f ┆ 5c5-4989-9 ┆ Variation  ┆ Somatic   ┆   ┆           ┆ REBC-ACEV ┆ Normal,   ┆       │\n",
       "│ …          ┆ …          ┆            ┆ Mutation  ┆   ┆           ┆ -TTM…     ┆ Metastati ┆       │\n",
       "│            ┆            ┆            ┆           ┆   ┆           ┆           ┆ …         ┆       │\n",
       "└────────────┴────────────┴────────────┴───────────┴───┴───────────┴───────────┴───────────┴───────┘"
      ]
     },
     "execution_count": 6,
     "metadata": {},
     "output_type": "execute_result"
    }
   ],
   "source": [
    "#vcf = VCF(ddir / \"gdc.gatk4_wgs.chou_orf143.norm.bcf\")\n",
    "vcf = VCF(ddir /  \"indel_dir\" / \"gdc.gatk4_wgs.chou_orf143.norm.bcf\")\n",
    "if not vcf._valid_index():\n",
    "    vcf._write_gvi_index()\n",
    "vcf._load_index()\n",
    "ss = (\n",
    "    pl.read_csv(\"/home/lic130/scratch/hmp01/hmp01_patient_count/gdc_gatk4_wgs_sample_sheet.tsv\", separator=\"\\t\")\n",
    "    .rename(lambda c: c.lower().replace(\" \", \"_\"))\n",
    "    .with_columns(pl.col(\"case_id\").str.split(\", \").list.first())\n",
    "    .join(\n",
    "        pl.DataFrame({\"file_id\": vcf.available_samples}).with_row_index(),\n",
    "        on=\"file_id\",\n",
    "        maintain_order=\"right\",\n",
    "    )\n",
    ")\n",
    "assert ss.height == len(vcf.available_samples)\n",
    "ss.head()"
   ]
  },
  {
   "cell_type": "code",
   "execution_count": 7,
   "metadata": {},
   "outputs": [],
   "source": [
    "### deduplication\n",
    "dedup_res = get_dedup_genos(vcf,ss)\n",
    "# samples are goupred by case_id\n",
    "# store case id\n",
    "case_id = dedup_res[0]\n",
    "# store the dedup genotype array\n",
    "dedup_genos = dedup_res[1]"
   ]
  },
  {
   "cell_type": "code",
   "execution_count": 8,
   "metadata": {},
   "outputs": [
    {
     "data": {
      "text/plain": [
       "array([3, 1, 1, 2, 2, 1, 2, 1, 1, 1, 1, 1])"
      ]
     },
     "execution_count": 8,
     "metadata": {},
     "output_type": "execute_result"
    }
   ],
   "source": [
    "### check the results\n",
    "# before dedup.\n",
    "vcf.read(\"16\").sum((0, 1))"
   ]
  },
  {
   "cell_type": "code",
   "execution_count": 9,
   "metadata": {},
   "outputs": [
    {
     "data": {
      "text/plain": [
       "array([2, 1, 1, 2, 2, 1, 1, 1, 1, 1, 1, 1], dtype=uint64)"
      ]
     },
     "execution_count": 9,
     "metadata": {},
     "output_type": "execute_result"
    }
   ],
   "source": [
    "# after\n",
    "dedup_genos.sum((0, 1))\n",
    "# no 0 good."
   ]
  },
  {
   "cell_type": "code",
   "execution_count": 10,
   "metadata": {},
   "outputs": [],
   "source": [
    "# are the mutation counts generally smaller in the dedup data because samples are merged?\n",
    "geno_cnts = vcf.read(\"16\").sum((0, 1))\n",
    "dedup_cnts = dedup_genos.sum((0, 1))\n",
    "np.testing.assert_equal(geno_cnts > 0, dedup_cnts > 0)\n",
    "assert (dedup_cnts <= geno_cnts).all()"
   ]
  },
  {
   "cell_type": "code",
   "execution_count": 11,
   "metadata": {},
   "outputs": [
    {
     "data": {
      "text/html": [
       "<div><style>\n",
       ".dataframe > thead > tr,\n",
       ".dataframe > tbody > tr {\n",
       "  text-align: right;\n",
       "  white-space: pre-wrap;\n",
       "}\n",
       "</style>\n",
       "<small>shape: (5, 2)</small><table border=\"1\" class=\"dataframe\"><thead><tr><th>case_id</th><th>tmb</th></tr><tr><td>str</td><td>f64</td></tr></thead><tbody><tr><td>&quot;C207624&quot;</td><td>111.666667</td></tr><tr><td>&quot;TCGA-MQ-A4LV&quot;</td><td>85.0</td></tr><tr><td>&quot;TCGA-2G-AAHC&quot;</td><td>36.0</td></tr><tr><td>&quot;TCGA-HD-A4C1&quot;</td><td>698.0</td></tr><tr><td>&quot;REBC-ACEV&quot;</td><td>33.0</td></tr></tbody></table></div>"
      ],
      "text/plain": [
       "shape: (5, 2)\n",
       "┌──────────────┬────────────┐\n",
       "│ case_id      ┆ tmb        │\n",
       "│ ---          ┆ ---        │\n",
       "│ str          ┆ f64        │\n",
       "╞══════════════╪════════════╡\n",
       "│ C207624      ┆ 111.666667 │\n",
       "│ TCGA-MQ-A4LV ┆ 85.0       │\n",
       "│ TCGA-2G-AAHC ┆ 36.0       │\n",
       "│ TCGA-HD-A4C1 ┆ 698.0      │\n",
       "│ REBC-ACEV    ┆ 33.0       │\n",
       "└──────────────┴────────────┘"
      ]
     },
     "execution_count": 11,
     "metadata": {},
     "output_type": "execute_result"
    }
   ],
   "source": [
    "tmb = (\n",
    "    pl.read_csv(\n",
    "        ddir / \"gdc.gatk4_wgs.chr16_tmb.tsv\",\n",
    "        separator=\"\\t\",\n",
    "        has_header=False,\n",
    "        new_columns=[\"file_id\", \"tmb\"],\n",
    "    )\n",
    "    .join(ss, on=\"file_id\", maintain_order=\"right\")\n",
    "    .group_by(\"case_id\", maintain_order=True)\n",
    "    .agg(pl.col(\"tmb\").mean())\n",
    ")\n",
    "assert dedup_genos.shape[0] == tmb.height\n",
    "tmb.head()"
   ]
  },
  {
   "cell_type": "code",
   "execution_count": 12,
   "metadata": {},
   "outputs": [],
   "source": [
    "in_exons = vcf._index.gr.overlap(exons)\n",
    "in_orf = in_exons.overlap(n_orfs)\n",
    "out_orf = in_exons.overlap(n_orfs, invert=True)\n",
    "in_orf_no_tr = in_orf.overlap(tr, invert=True)\n",
    "out_orf_no_tr = out_orf.overlap(tr, invert=True)\n",
    "assert len(in_exons) != 0, \"No variants in exons\""
   ]
  },
  {
   "cell_type": "code",
   "execution_count": 13,
   "metadata": {},
   "outputs": [
    {
     "data": {
      "text/plain": [
       "(np.uint64(15), np.float64(0.0), np.uint64(10), np.float64(0.0))"
      ]
     },
     "execution_count": 13,
     "metadata": {},
     "output_type": "execute_result"
    }
   ],
   "source": [
    "# in_exons = vcf._index.gr.overlap(exons)\n",
    "# in_orf = in_exons.overlap(n_orfs)\n",
    "# out_orf = in_exons.overlap(n_orfs, invert=True)\n",
    "# in_orf_no_tr = in_orf.overlap(tr, invert=True)\n",
    "# out_orf_no_tr = out_orf.overlap(tr, invert=True)\n",
    "\n",
    "in_orf_cnts = dedup_genos[..., in_orf.index].sum((1, 2))\n",
    "#out_orf_cnts = dedup_genos[..., out_orf.index].sum((1, 2))\n",
    "in_orf_no_tr_cnts = dedup_genos[..., in_orf_no_tr.index].sum((1, 2))\n",
    "\n",
    "\n",
    "# out_orf\n",
    "if len(out_orf) == 0:\n",
    "    out_orf_cnts = np.array(0.)\n",
    "else:\n",
    "    out_orf_cnts = dedup_genos[..., out_orf.index].sum((1, 2))\n",
    "# out_orf_no_tr\n",
    "if len(out_orf_no_tr) == 0:\n",
    "    out_orf_no_tr_cnts = np.array(0.)\n",
    "else:\n",
    "    out_orf_no_tr_cnts = dedup_genos[..., out_orf_no_tr.index].sum((1, 2))\n",
    "\n",
    "##\n",
    "in_orf_cnts.sum(), out_orf_cnts.sum(), in_orf_no_tr_cnts.sum(), out_orf_no_tr_cnts.sum()"
   ]
  },
  {
   "cell_type": "code",
   "execution_count": 14,
   "metadata": {},
   "outputs": [
    {
     "data": {
      "text/html": [
       "<div><style>\n",
       ".dataframe > thead > tr,\n",
       ".dataframe > tbody > tr {\n",
       "  text-align: right;\n",
       "  white-space: pre-wrap;\n",
       "}\n",
       "</style>\n",
       "<small>shape: (8_913, 2)</small><table border=\"1\" class=\"dataframe\"><thead><tr><th>case_id</th><th>in_orf_mutation</th></tr><tr><td>str</td><td>bool</td></tr></thead><tbody><tr><td>&quot;C207624&quot;</td><td>false</td></tr><tr><td>&quot;TCGA-MQ-A4LV&quot;</td><td>false</td></tr><tr><td>&quot;TCGA-2G-AAHC&quot;</td><td>false</td></tr><tr><td>&quot;TCGA-HD-A4C1&quot;</td><td>false</td></tr><tr><td>&quot;REBC-ACEV&quot;</td><td>false</td></tr><tr><td>&hellip;</td><td>&hellip;</td></tr><tr><td>&quot;TCGA-24-2029&quot;</td><td>false</td></tr><tr><td>&quot;TCGA-BA-A4II&quot;</td><td>false</td></tr><tr><td>&quot;TCGA-A5-A0G1&quot;</td><td>false</td></tr><tr><td>&quot;TCGA-A5-A0R9&quot;</td><td>false</td></tr><tr><td>&quot;TCGA-US-A776&quot;</td><td>false</td></tr></tbody></table></div>"
      ],
      "text/plain": [
       "shape: (8_913, 2)\n",
       "┌──────────────┬─────────────────┐\n",
       "│ case_id      ┆ in_orf_mutation │\n",
       "│ ---          ┆ ---             │\n",
       "│ str          ┆ bool            │\n",
       "╞══════════════╪═════════════════╡\n",
       "│ C207624      ┆ false           │\n",
       "│ TCGA-MQ-A4LV ┆ false           │\n",
       "│ TCGA-2G-AAHC ┆ false           │\n",
       "│ TCGA-HD-A4C1 ┆ false           │\n",
       "│ REBC-ACEV    ┆ false           │\n",
       "│ …            ┆ …               │\n",
       "│ TCGA-24-2029 ┆ false           │\n",
       "│ TCGA-BA-A4II ┆ false           │\n",
       "│ TCGA-A5-A0G1 ┆ false           │\n",
       "│ TCGA-A5-A0R9 ┆ false           │\n",
       "│ TCGA-US-A776 ┆ false           │\n",
       "└──────────────┴─────────────────┘"
      ]
     },
     "execution_count": 14,
     "metadata": {},
     "output_type": "execute_result"
    }
   ],
   "source": [
    "## use dedup_genos to find indels (patient, ploidy, mutation), mataches sample sheet or tmb table\n",
    "# patients with mutation in ORF\n",
    "patient_in_orf = dedup_genos[..., in_orf.index]\n",
    "patient_in_orf_non0 = np.any(patient_in_orf != 0, axis=(1, 2))\n",
    "patient_in_orf_non0\n",
    "# patients with mutation outside the ORF\n",
    "# patient_out_orf = dedup_genos[..., out_orf.index]\n",
    "# patient_out_orf_non0 = np.any(patient_out_orf != 0, axis=(1, 2))\n",
    "# make a dataframe\n",
    "mut_loc_df = pl.DataFrame({\n",
    "    \"case_id\": case_id,\n",
    "    \"in_orf_mutation\": patient_in_orf_non0\n",
    "    # \"out_orf_mutation\": patient_out_orf_non0\n",
    "})\n",
    "# a thrid col for patients that have both types\n",
    "# mut_loc_df = df.with_columns(\n",
    "#     (pl.col(\"in_orf_mutation\") & pl.col(\"out_orf_mutation\")).alias(\"both\")\n",
    "# )\n",
    "mut_loc_df"
   ]
  },
  {
   "cell_type": "code",
   "execution_count": 15,
   "metadata": {},
   "outputs": [
    {
     "data": {
      "text/html": [
       "<div><style>\n",
       ".dataframe > thead > tr,\n",
       ".dataframe > tbody > tr {\n",
       "  text-align: right;\n",
       "  white-space: pre-wrap;\n",
       "}\n",
       "</style>\n",
       "<small>shape: (8_913, 3)</small><table border=\"1\" class=\"dataframe\"><thead><tr><th>case_id</th><th>tmb</th><th>in_orf_mutation</th></tr><tr><td>str</td><td>f64</td><td>bool</td></tr></thead><tbody><tr><td>&quot;C207624&quot;</td><td>111.666667</td><td>false</td></tr><tr><td>&quot;TCGA-MQ-A4LV&quot;</td><td>85.0</td><td>false</td></tr><tr><td>&quot;TCGA-2G-AAHC&quot;</td><td>36.0</td><td>false</td></tr><tr><td>&quot;TCGA-HD-A4C1&quot;</td><td>698.0</td><td>false</td></tr><tr><td>&quot;REBC-ACEV&quot;</td><td>33.0</td><td>false</td></tr><tr><td>&hellip;</td><td>&hellip;</td><td>&hellip;</td></tr><tr><td>&quot;TCGA-24-2029&quot;</td><td>84.0</td><td>false</td></tr><tr><td>&quot;TCGA-BA-A4II&quot;</td><td>421.0</td><td>false</td></tr><tr><td>&quot;TCGA-A5-A0G1&quot;</td><td>35202.0</td><td>false</td></tr><tr><td>&quot;TCGA-A5-A0R9&quot;</td><td>204.0</td><td>false</td></tr><tr><td>&quot;TCGA-US-A776&quot;</td><td>368.0</td><td>false</td></tr></tbody></table></div>"
      ],
      "text/plain": [
       "shape: (8_913, 3)\n",
       "┌──────────────┬────────────┬─────────────────┐\n",
       "│ case_id      ┆ tmb        ┆ in_orf_mutation │\n",
       "│ ---          ┆ ---        ┆ ---             │\n",
       "│ str          ┆ f64        ┆ bool            │\n",
       "╞══════════════╪════════════╪═════════════════╡\n",
       "│ C207624      ┆ 111.666667 ┆ false           │\n",
       "│ TCGA-MQ-A4LV ┆ 85.0       ┆ false           │\n",
       "│ TCGA-2G-AAHC ┆ 36.0       ┆ false           │\n",
       "│ TCGA-HD-A4C1 ┆ 698.0      ┆ false           │\n",
       "│ REBC-ACEV    ┆ 33.0       ┆ false           │\n",
       "│ …            ┆ …          ┆ …               │\n",
       "│ TCGA-24-2029 ┆ 84.0       ┆ false           │\n",
       "│ TCGA-BA-A4II ┆ 421.0      ┆ false           │\n",
       "│ TCGA-A5-A0G1 ┆ 35202.0    ┆ false           │\n",
       "│ TCGA-A5-A0R9 ┆ 204.0      ┆ false           │\n",
       "│ TCGA-US-A776 ┆ 368.0      ┆ false           │\n",
       "└──────────────┴────────────┴─────────────────┘"
      ]
     },
     "execution_count": 15,
     "metadata": {},
     "output_type": "execute_result"
    }
   ],
   "source": [
    "## combine tmb table and the mutation\n",
    "tmb_mut_loc = tmb.join(mut_loc_df, on=\"case_id\", how=\"left\")\n",
    "tmb_mut_loc"
   ]
  },
  {
   "cell_type": "code",
   "execution_count": 16,
   "metadata": {},
   "outputs": [
    {
     "name": "stderr",
     "output_type": "stream",
     "text": [
      "/tmp/ipykernel_2242123/575206636.py:29: DeprecationWarning: `DataFrame.with_row_count` is deprecated; use `with_row_index` instead. Note that the default column name has changed from 'row_nr' to 'index'.\n",
      "  df2 = df2.with_row_count(name=\"order\")\n"
     ]
    }
   ],
   "source": [
    "## add cancer type\n",
    "\n",
    "# download clinical data from GDC > cases > clinical\n",
    "# /home/lic130/scratch/hmp01/hmp01_patient_count/clinical.cohort_20250710\n",
    "clinical_df = pl.read_csv(\"/home/lic130/scratch/hmp01/hmp01_patient_count/clinical.cohort_20250710/clinical.tsv\", separator=\"\\t\")\n",
    "clinical_df = clinical_df.select([\"cases.submitter_id\",\"cases.disease_type\",\"cases.primary_site\"])\n",
    "\n",
    "## left join\n",
    "# rename column names\n",
    "clinical_df.columns = [\"case_id\", \"disease_type\", \"primary_site\"]\n",
    "# \n",
    "tmb_mut_loc_cancer = tmb_mut_loc.join(clinical_df, on=\"case_id\", how=\"left\")\n",
    "\n",
    "## check\n",
    "# is there NA?\n",
    "tmb_mut_loc_cancer.select(\n",
    "    (pl.col(\"disease_type\").is_null() | pl.col(\"primary_site\").is_null()).any()\n",
    ")\n",
    "# no NA. good\n",
    "# shape\n",
    "tmb_mut_loc_cancer.shape\n",
    "## remove duplicated rows\n",
    "tmb_mut_loc_cancer = tmb_mut_loc_cancer.unique()\n",
    "tmb_mut_loc_cancer\n",
    "\n",
    "## order based on original TMB\n",
    "df2 = tmb\n",
    "# Add a helper column that encodes the desired order\n",
    "df2 = df2.with_row_count(name=\"order\")\n",
    "# # Join and sort\n",
    "ordered_df1 = tmb_mut_loc_cancer.join(df2, on=\"case_id\").sort(\"order\").select(tmb_mut_loc_cancer.columns)\n",
    "tmb_mut_loc_cancer = ordered_df1\n",
    "tmb_mut_loc_cancer\n",
    "\n",
    "\n",
    "# make sure the new table still have the same order\n",
    "assert (tmb_mut_loc_cancer[\"case_id\"] == tmb[\"case_id\"]).all()\n",
    "\n",
    "## export\n",
    "tmb_mut_loc_cancer.write_csv(\n",
    "    ddir / \"gdc.indel.tmb_mut_loc_cancer.tsv\",\n",
    "        separator=\"\\t\")"
   ]
  },
  {
   "cell_type": "code",
   "execution_count": 17,
   "metadata": {},
   "outputs": [
    {
     "name": "stderr",
     "output_type": "stream",
     "text": [
      "/tmp/ipykernel_2242123/1688864765.py:8: DeprecationWarning: `pl.count()` is deprecated. Please use `pl.len()` instead.\n",
      "(Deprecated in version 0.20.5)\n",
      "  pl.count().alias(\"count\")\n"
     ]
    },
    {
     "data": {
      "text/html": [
       "<div><style>\n",
       ".dataframe > thead > tr,\n",
       ".dataframe > tbody > tr {\n",
       "  text-align: right;\n",
       "  white-space: pre-wrap;\n",
       "}\n",
       "</style>\n",
       "<small>shape: (4, 3)</small><table border=\"1\" class=\"dataframe\"><thead><tr><th>disease_type</th><th>count</th><th>percentage</th></tr><tr><td>str</td><td>u32</td><td>f64</td></tr></thead><tbody><tr><td>&quot;Adenomas and Adenocarcinomas&quot;</td><td>12</td><td>80.0</td></tr><tr><td>&quot;Squamous Cell Neoplasms&quot;</td><td>1</td><td>6.666667</td></tr><tr><td>&quot;Gliomas&quot;</td><td>1</td><td>6.666667</td></tr><tr><td>&quot;Transitional Cell Papillomas a…</td><td>1</td><td>6.666667</td></tr></tbody></table></div>"
      ],
      "text/plain": [
       "shape: (4, 3)\n",
       "┌─────────────────────────────────┬───────┬────────────┐\n",
       "│ disease_type                    ┆ count ┆ percentage │\n",
       "│ ---                             ┆ ---   ┆ ---        │\n",
       "│ str                             ┆ u32   ┆ f64        │\n",
       "╞═════════════════════════════════╪═══════╪════════════╡\n",
       "│ Adenomas and Adenocarcinomas    ┆ 12    ┆ 80.0       │\n",
       "│ Squamous Cell Neoplasms         ┆ 1     ┆ 6.666667   │\n",
       "│ Gliomas                         ┆ 1     ┆ 6.666667   │\n",
       "│ Transitional Cell Papillomas a… ┆ 1     ┆ 6.666667   │\n",
       "└─────────────────────────────────┴───────┴────────────┘"
      ]
     },
     "execution_count": 17,
     "metadata": {},
     "output_type": "execute_result"
    }
   ],
   "source": [
    "## check composition of patients with in orf mutation\n",
    "# Filter\n",
    "filtered = tmb_mut_loc_cancer.filter(\n",
    "    (pl.col(\"in_orf_mutation\") == True) #& (pl.col(\"out_orf_mutation\") == False)\n",
    ")\n",
    "# Count per disease_type\n",
    "counts = filtered.group_by(\"disease_type\").agg([\n",
    "    pl.count().alias(\"count\")\n",
    "])\n",
    "\n",
    "# Calculate percentages\n",
    "result = counts.with_columns(\n",
    "    (pl.col(\"count\") / pl.col(\"count\").sum() * 100).alias(\"percentage\")\n",
    ")\n",
    "# Sort by count descending\n",
    "result = result.sort(\"count\", descending=True)\n",
    "result"
   ]
  },
  {
   "cell_type": "code",
   "execution_count": 18,
   "metadata": {},
   "outputs": [
    {
     "data": {
      "text/plain": [
       "(np.uint64(12), np.float64(0.0), np.uint64(9), np.float64(0.0))"
      ]
     },
     "execution_count": 18,
     "metadata": {},
     "output_type": "execute_result"
    }
   ],
   "source": [
    "### location of mutation for Adenomas and Adenocarcinomas\n",
    "## only do cancer type-specific analysis for Adenomas and Adenocarcinomas because the sample size of others are extremely small, meaning low power\n",
    "# get the index for cancer type of interest\n",
    "idx_cancer_type = (tmb_mut_loc_cancer[\"disease_type\"] == \"Adenomas and Adenocarcinomas\").to_numpy().nonzero()[0]\n",
    "idx_cancer_type\n",
    "# subset based on cancer type\n",
    "PH01 = dedup_genos[idx_cancer_type]\n",
    "\n",
    "# subset based on location of mutation\n",
    "in_orf_cnts = PH01[:,:, in_orf.index].sum((1, 2))\n",
    "in_orf_no_tr_cnts = PH01[:,:, in_orf_no_tr.index].sum((1, 2))\n",
    "if len(out_orf) == 0:\n",
    "    out_orf_cnts = np.array(0.)\n",
    "else:\n",
    "    out_orf_cnts = dedup_genos[..., out_orf.index].sum((1, 2))\n",
    "\n",
    "if len(out_orf_no_tr) == 0:\n",
    "    out_orf_no_tr_cnts = np.array(0.)\n",
    "else:\n",
    "    out_orf_no_tr_cnts = dedup_genos[..., out_orf_no_tr.index].sum((1, 2))\n",
    "\n",
    "in_orf_cnts.sum(), out_orf_cnts.sum(), in_orf_no_tr_cnts.sum(), out_orf_no_tr_cnts.sum()"
   ]
  },
  {
   "cell_type": "code",
   "execution_count": 19,
   "metadata": {},
   "outputs": [],
   "source": [
    "### mutation - count and coord\n",
    "in_exons = vcf._index.gr.overlap(exons)\n",
    "in_orf = in_exons.overlap(n_orfs)\n",
    "out_orf = in_exons.overlap(n_orfs, invert=True)\n",
    "in_orf_no_tr = in_orf.overlap(tr, invert=True)\n",
    "# out_orf_no_tr = out_orf.overlap(tr, invert=True)\n",
    "\n",
    "### make a pl data frame\n",
    "\n",
    "# conver panda to polars\n",
    "in_exons_df=pl.from_pandas(\n",
    "    # make panda df\n",
    "    in_exons.df)\n",
    "\n",
    "### count of each mutation\n",
    "in_exons_cnts = dedup_genos[..., in_exons.index].sum((0, 1))\n",
    "# add to the df\n",
    "# in_exons_df = \n",
    "in_exons_df =in_exons_df.with_columns(pl.Series(\"count\", in_exons_cnts))\n",
    "\n",
    "\n",
    "### annotate location\n",
    "\n",
    "## in_orf\n",
    "# Create a list of None (nulls)\n",
    "new_col = [None] * in_exons_df.height\n",
    "# Assign \"yes\" to desired indices\n",
    "for idx in in_orf.index.to_numpy():\n",
    "    new_col[idx] = \"yes\"\n",
    "# Add the column to the DataFrame\n",
    "in_exons_df = in_exons_df.with_columns(pl.Series(\"in_orf\", new_col))\n",
    "in_exons_df\n",
    "\n",
    "# ## out_orf\n",
    "# # Create a list of None (nulls)\n",
    "# new_col = [None] * in_exons_df.height\n",
    "# # Assign \"yes\" to desired indices\n",
    "# for idx in out_orf.index.to_numpy():\n",
    "#     new_col[idx] = \"yes\"\n",
    "# # Add the column to the DataFrame\n",
    "# in_exons_df = in_exons_df.with_columns(pl.Series(\"out_orf\", new_col))\n",
    "# in_exons_df\n",
    "\n",
    "## in_orf_no_tr\n",
    "# Create a list of None (nulls)\n",
    "new_col = [None] * in_exons_df.height\n",
    "# Assign \"yes\" to desired indices\n",
    "for idx in in_orf_no_tr.index.to_numpy():\n",
    "    new_col[idx] = \"yes\"\n",
    "# Add the column to the DataFrame\n",
    "in_exons_df = in_exons_df.with_columns(pl.Series(\"in_orf_no_tr\", new_col))\n",
    "in_exons_cnts\n",
    "\n",
    "\n",
    "## out_orf_no_tr\n",
    "# none\n",
    "\n",
    "# ## filter out count = 0\n",
    "# in_exons_df = in_exons_df.filter(pl.col(\"count\") != 0)\n",
    "\n",
    "## export\n",
    "in_exons_df.write_csv(\n",
    "    ddir / \"in_exons_indel.tsv\",\n",
    "        separator=\"\\t\")"
   ]
  },
  {
   "cell_type": "markdown",
   "metadata": {},
   "source": [
    "# HMF"
   ]
  },
  {
   "cell_type": "code",
   "execution_count": 20,
   "metadata": {},
   "outputs": [],
   "source": [
    "exons = pr.read_bed(str(ddir / \"VPS9D1-AS1_exons.hg19.bed\")).drop(\"Strand\").merge()\n",
    "n_orfs = pr.read_bed(str(ddir / \"VPS9D1-AS1_nORFs.hg19.bed\")).merge()\n",
    "tr = pr.read_bed(str(ddir / \"VPS9D1-AS1_TR.hg19.bed\")).merge()\n",
    "exons.Chromosome = \"16\"\n",
    "n_orfs.Chromosome = \"16\"\n",
    "tr.Chromosome = \"16\""
   ]
  },
  {
   "cell_type": "code",
   "execution_count": 21,
   "metadata": {},
   "outputs": [
    {
     "data": {
      "text/html": [
       "<div><style>\n",
       ".dataframe > thead > tr,\n",
       ".dataframe > tbody > tr {\n",
       "  text-align: right;\n",
       "  white-space: pre-wrap;\n",
       "}\n",
       "</style>\n",
       "<small>shape: (5, 2)</small><table border=\"1\" class=\"dataframe\"><thead><tr><th>case_id</th><th>tmb</th></tr><tr><td>str</td><td>i64</td></tr></thead><tbody><tr><td>&quot;WIDE01010971T&quot;</td><td>78</td></tr><tr><td>&quot;ACTN01020002T&quot;</td><td>141</td></tr><tr><td>&quot;DRUP01070016T&quot;</td><td>63</td></tr><tr><td>&quot;CPCT02040051T&quot;</td><td>1144</td></tr><tr><td>&quot;CPCT02030455T&quot;</td><td>465</td></tr></tbody></table></div>"
      ],
      "text/plain": [
       "shape: (5, 2)\n",
       "┌───────────────┬──────┐\n",
       "│ case_id       ┆ tmb  │\n",
       "│ ---           ┆ ---  │\n",
       "│ str           ┆ i64  │\n",
       "╞═══════════════╪══════╡\n",
       "│ WIDE01010971T ┆ 78   │\n",
       "│ ACTN01020002T ┆ 141  │\n",
       "│ DRUP01070016T ┆ 63   │\n",
       "│ CPCT02040051T ┆ 1144 │\n",
       "│ CPCT02030455T ┆ 465  │\n",
       "└───────────────┴──────┘"
      ]
     },
     "execution_count": 21,
     "metadata": {},
     "output_type": "execute_result"
    }
   ],
   "source": [
    "tmb = pl.read_csv(ddir / \"hmf.chr16.tmb.tsv\", separator=\"\\t\")\n",
    "tmb.head()"
   ]
  },
  {
   "cell_type": "code",
   "execution_count": 22,
   "metadata": {},
   "outputs": [
    {
     "name": "stderr",
     "output_type": "stream",
     "text": [
      "\u001b[32m2025-07-24 15:05:15.049\u001b[0m | \u001b[1mINFO    \u001b[0m | \u001b[36mgenoray._vcf\u001b[0m:\u001b[36m_load_index\u001b[0m:\u001b[36m1059\u001b[0m - \u001b[1mLoading genoray index.\u001b[0m\n"
     ]
    },
    {
     "data": {
      "text/plain": [
       "<genoray._vcf.VCF at 0x758838df58e0>"
      ]
     },
     "execution_count": 22,
     "metadata": {},
     "output_type": "execute_result"
    }
   ],
   "source": [
    "vcf = VCF(ddir /\"indel_dir\"/ \"hmf.vps9d1-as1.vaf.norm.bcf\")#.set_samples(tmb[\"#IID\"])\n",
    "\n",
    "if not vcf._valid_index():\n",
    "    vcf._write_gvi_index()\n",
    "vcf._load_index()"
   ]
  },
  {
   "cell_type": "code",
   "execution_count": 23,
   "metadata": {},
   "outputs": [],
   "source": [
    "genos = vcf.read(\"16\") == 1\n",
    "assert genos.shape[0] == tmb.height"
   ]
  },
  {
   "cell_type": "code",
   "execution_count": null,
   "metadata": {},
   "outputs": [],
   "source": []
  },
  {
   "cell_type": "code",
   "execution_count": null,
   "metadata": {},
   "outputs": [],
   "source": []
  },
  {
   "cell_type": "code",
   "execution_count": 24,
   "metadata": {},
   "outputs": [],
   "source": [
    "norm_genos = genos / tmb[\"tmb\"].to_numpy()[:, None, None]\n",
    "norm_genos = np.nan_to_num(norm_genos, nan=0, posinf=0, neginf=0)"
   ]
  },
  {
   "cell_type": "code",
   "execution_count": 25,
   "metadata": {},
   "outputs": [],
   "source": [
    "in_exons = vcf._index.gr.overlap(exons)\n",
    "in_orf = in_exons.overlap(n_orfs)\n",
    "out_orf = in_exons.overlap(n_orfs, invert=True)\n",
    "in_orf_no_tr = in_orf.overlap(tr, invert=True)\n",
    "out_orf_no_tr = out_orf.overlap(tr, invert=True)\n",
    "\n",
    "assert len(in_exons) != 0, \"No variants in exons\""
   ]
  },
  {
   "cell_type": "code",
   "execution_count": 26,
   "metadata": {},
   "outputs": [
    {
     "data": {
      "text/plain": [
       "(np.int64(8), np.int64(0), np.int64(5), np.int64(0))"
      ]
     },
     "execution_count": 26,
     "metadata": {},
     "output_type": "execute_result"
    }
   ],
   "source": [
    "in_orf_cnts = genos[..., in_orf.index].sum((1, 2))\n",
    "# out_orf_cnts = genos[..., out_orf.index].sum((1, 2))\n",
    "in_orf_no_tr_cnts = genos[..., in_orf_no_tr.index].sum((1, 2))\n",
    "\n",
    "\n",
    "if len(out_orf) == 0:\n",
    "    out_orf_cnts = np.array(0)\n",
    "else:\n",
    "    out_orf_cnts = genos[..., out_orf.index].sum((1, 2))\n",
    "\n",
    "\n",
    "if len(out_orf_no_tr) == 0:\n",
    "    out_orf_no_tr_cnts = np.array(0)\n",
    "else:\n",
    "    out_orf_no_tr_cnts = genos[..., out_orf_no_tr.index].sum((1, 2))\n",
    "\n",
    "in_orf_cnts.sum(), out_orf_cnts.sum(), in_orf_no_tr_cnts.sum(), out_orf_no_tr_cnts.sum()"
   ]
  },
  {
   "cell_type": "code",
   "execution_count": 27,
   "metadata": {},
   "outputs": [],
   "source": [
    "## patients with mutation in ORF\n",
    "patient_in_orf = genos[..., in_orf.index]\n",
    "patient_in_orf_non0 = np.any(patient_in_orf != 0, axis=(1, 2))\n",
    "patient_in_orf_non0\n",
    "# # patients with mutation outside the ORF\n",
    "# patient_out_orf = dedup_genos[..., out_orf.index]\n",
    "# patient_out_orf_non0 = np.any(patient_out_orf != 0, axis=(1, 2))\n",
    "# make a dataframe\n",
    "df = pl.DataFrame({\n",
    "    \"case_id\": tmb[\"case_id\"],\n",
    "    \"in_orf_mutation\": patient_in_orf_non0\n",
    "    # ,\n",
    "    # \"out_orf_mutation\": patient_out_orf_non0\n",
    "})\n",
    "df\n",
    "# # a thrid col for patients that have both types\n",
    "# mut_loc_df = df.with_columns(\n",
    "#     (pl.col(\"in_orf_mutation\") & pl.col(\"out_orf_mutation\")).alias(\"both\")\n",
    "# )\n",
    "mut_loc_df = df"
   ]
  },
  {
   "cell_type": "code",
   "execution_count": 28,
   "metadata": {},
   "outputs": [
    {
     "data": {
      "text/html": [
       "<div><style>\n",
       ".dataframe > thead > tr,\n",
       ".dataframe > tbody > tr {\n",
       "  text-align: right;\n",
       "  white-space: pre-wrap;\n",
       "}\n",
       "</style>\n",
       "<small>shape: (6_360, 3)</small><table border=\"1\" class=\"dataframe\"><thead><tr><th>case_id</th><th>tmb</th><th>in_orf_mutation</th></tr><tr><td>str</td><td>i64</td><td>bool</td></tr></thead><tbody><tr><td>&quot;WIDE01010971T&quot;</td><td>78</td><td>false</td></tr><tr><td>&quot;ACTN01020002T&quot;</td><td>141</td><td>false</td></tr><tr><td>&quot;DRUP01070016T&quot;</td><td>63</td><td>false</td></tr><tr><td>&quot;CPCT02040051T&quot;</td><td>1144</td><td>false</td></tr><tr><td>&quot;CPCT02030455T&quot;</td><td>465</td><td>false</td></tr><tr><td>&hellip;</td><td>&hellip;</td><td>&hellip;</td></tr><tr><td>&quot;CPCT02040045T&quot;</td><td>3230</td><td>false</td></tr><tr><td>&quot;CPCT02020535T&quot;</td><td>2523</td><td>false</td></tr><tr><td>&quot;WIDE01011223T&quot;</td><td>7250</td><td>false</td></tr><tr><td>&quot;CPCT02070122T&quot;</td><td>757</td><td>false</td></tr><tr><td>&quot;CPCT02030339TII&quot;</td><td>3208</td><td>false</td></tr></tbody></table></div>"
      ],
      "text/plain": [
       "shape: (6_360, 3)\n",
       "┌─────────────────┬──────┬─────────────────┐\n",
       "│ case_id         ┆ tmb  ┆ in_orf_mutation │\n",
       "│ ---             ┆ ---  ┆ ---             │\n",
       "│ str             ┆ i64  ┆ bool            │\n",
       "╞═════════════════╪══════╪═════════════════╡\n",
       "│ WIDE01010971T   ┆ 78   ┆ false           │\n",
       "│ ACTN01020002T   ┆ 141  ┆ false           │\n",
       "│ DRUP01070016T   ┆ 63   ┆ false           │\n",
       "│ CPCT02040051T   ┆ 1144 ┆ false           │\n",
       "│ CPCT02030455T   ┆ 465  ┆ false           │\n",
       "│ …               ┆ …    ┆ …               │\n",
       "│ CPCT02040045T   ┆ 3230 ┆ false           │\n",
       "│ CPCT02020535T   ┆ 2523 ┆ false           │\n",
       "│ WIDE01011223T   ┆ 7250 ┆ false           │\n",
       "│ CPCT02070122T   ┆ 757  ┆ false           │\n",
       "│ CPCT02030339TII ┆ 3208 ┆ false           │\n",
       "└─────────────────┴──────┴─────────────────┘"
      ]
     },
     "execution_count": 28,
     "metadata": {},
     "output_type": "execute_result"
    }
   ],
   "source": [
    "## combine tmb table and the mutation\n",
    "tmb_mut_loc = tmb.join(mut_loc_df, on=\"case_id\", how=\"left\")\n",
    "tmb_mut_loc"
   ]
  }
 ],
 "metadata": {
  "kernelspec": {
   "display_name": "ORF143 Lin2025",
   "language": "python",
   "name": "orf143"
  },
  "language_info": {
   "codemirror_mode": {
    "name": "ipython",
    "version": 3
   },
   "file_extension": ".py",
   "mimetype": "text/x-python",
   "name": "python",
   "nbconvert_exporter": "python",
   "pygments_lexer": "ipython3",
   "version": "3.12.11"
  }
 },
 "nbformat": 4,
 "nbformat_minor": 4
}
